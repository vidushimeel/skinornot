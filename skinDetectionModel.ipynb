{
  "nbformat": 4,
  "nbformat_minor": 0,
  "metadata": {
    "colab": {
      "name": "skinDetectionModel.ipynb",
      "provenance": [],
      "authorship_tag": "ABX9TyPGoHT/KYmHfVyI01IiruOT"
    },
    "kernelspec": {
      "name": "python3",
      "display_name": "Python 3"
    }
  },
  "cells": [
    {
      "cell_type": "markdown",
      "metadata": {
        "id": "U7i55vr_aKCB"
      },
      "source": [
        "### Skin Detection Model \n",
        "\n",
        "This notebook file shows the code that makes up our skin detection model. The model detects skin in real time before the image is taken. This is important so that people don't upload photos of non-skin to the malignancy model and achieve inaccurate results. This model does not detect melanoma. "
      ]
    },
    {
      "cell_type": "markdown",
      "metadata": {
        "id": "VOf_UnIcZKBJ"
      },
      "source": [
        "## Basic Setup\n",
        "\n",
        "Here we explain the basic methodology of how this model was made using steps. This is by no means an all-inclusive representation, just an overview. \n",
        "\n",
        "### Steps\n",
        "\n",
        "1. Import libraries\n",
        "\n",
        "1. Import dataset and define rows and columns. Dataset used can be found at: https://archive.ics.uci.edu/ml/datasets/Skin+Segmentation\n",
        "  > Note: Here we are specifying the purpose of RGB compared to the purpose of the classification (skin or not skin).\n",
        "1. Define X and Y. What we are training and testing on. Print these to make sure they are correctly defined. \n",
        "\n",
        "1. Encode the Y so that the computer can read its values. \n",
        "\n",
        "1. Split into training and testing, begin data preprocessing. \n",
        "\n",
        "1. Data preprocessing. Start by feature scaling and looking for missing values. \n",
        "\n",
        "1. Use random forest classifier to train model.\n",
        "\n",
        "1. Analyze accuracy with a confusion matrix. \n",
        "\n",
        "1. Style confusion matrix according to heatmap for visualized accuracy. "
      ]
    },
    {
      "cell_type": "code",
      "metadata": {
        "id": "WqhrOHg0t_ho"
      },
      "source": [
        "import numpy as np\n",
        "import pandas as pd\n",
        "\n",
        "from matplotlib import pyplot as plt\n",
        "\n",
        "import seaborn as sns\n",
        "\n",
        "from sklearn.model_selection import train_test_split\n",
        "from sklearn.neighbors import KNeighborsClassifier\n",
        "from sklearn.metrics import confusion_matrix\n",
        "\n",
        "from joblib import dump, load\n",
        "\n",
        "import tensorflow as tf\n",
        "import datetime "
      ],
      "execution_count": null,
      "outputs": []
    },
    {
      "cell_type": "code",
      "metadata": {
        "colab": {
          "base_uri": "https://localhost:8080/",
          "height": 204
        },
        "id": "KN0rW2k1uG77",
        "outputId": "82e6506e-6e40-4140-ddb5-e5968a6239d2"
      },
      "source": [
        "cols = ['R', 'G', 'B', 'Decision']\n",
        "df = pd.read_csv('https://raw.githubusercontent.com/vidushimeel/skinornot/main/Skin_NonSkin%20-%20Skin_NonSkin.csv', names=cols)\n",
        "df.head()"
      ],
      "execution_count": null,
      "outputs": [
        {
          "output_type": "execute_result",
          "data": {
            "text/html": [
              "<div>\n",
              "<style scoped>\n",
              "    .dataframe tbody tr th:only-of-type {\n",
              "        vertical-align: middle;\n",
              "    }\n",
              "\n",
              "    .dataframe tbody tr th {\n",
              "        vertical-align: top;\n",
              "    }\n",
              "\n",
              "    .dataframe thead th {\n",
              "        text-align: right;\n",
              "    }\n",
              "</style>\n",
              "<table border=\"1\" class=\"dataframe\">\n",
              "  <thead>\n",
              "    <tr style=\"text-align: right;\">\n",
              "      <th></th>\n",
              "      <th>R</th>\n",
              "      <th>G</th>\n",
              "      <th>B</th>\n",
              "      <th>Decision</th>\n",
              "    </tr>\n",
              "  </thead>\n",
              "  <tbody>\n",
              "    <tr>\n",
              "      <th>0</th>\n",
              "      <td>74</td>\n",
              "      <td>85</td>\n",
              "      <td>123</td>\n",
              "      <td>1</td>\n",
              "    </tr>\n",
              "    <tr>\n",
              "      <th>1</th>\n",
              "      <td>73</td>\n",
              "      <td>84</td>\n",
              "      <td>122</td>\n",
              "      <td>1</td>\n",
              "    </tr>\n",
              "    <tr>\n",
              "      <th>2</th>\n",
              "      <td>72</td>\n",
              "      <td>83</td>\n",
              "      <td>121</td>\n",
              "      <td>1</td>\n",
              "    </tr>\n",
              "    <tr>\n",
              "      <th>3</th>\n",
              "      <td>70</td>\n",
              "      <td>81</td>\n",
              "      <td>119</td>\n",
              "      <td>1</td>\n",
              "    </tr>\n",
              "    <tr>\n",
              "      <th>4</th>\n",
              "      <td>70</td>\n",
              "      <td>81</td>\n",
              "      <td>119</td>\n",
              "      <td>1</td>\n",
              "    </tr>\n",
              "  </tbody>\n",
              "</table>\n",
              "</div>"
            ],
            "text/plain": [
              "    R   G    B  Decision\n",
              "0  74  85  123         1\n",
              "1  73  84  122         1\n",
              "2  72  83  121         1\n",
              "3  70  81  119         1\n",
              "4  70  81  119         1"
            ]
          },
          "metadata": {
            "tags": []
          },
          "execution_count": 3
        }
      ]
    },
    {
      "cell_type": "code",
      "metadata": {
        "id": "laVNj1YQvqKM"
      },
      "source": [
        "x = df.iloc[:, 0:3]\n",
        "y = df.iloc[:, 3]"
      ],
      "execution_count": null,
      "outputs": []
    },
    {
      "cell_type": "code",
      "metadata": {
        "colab": {
          "base_uri": "https://localhost:8080/",
          "height": 204
        },
        "id": "j5EYSd8ov4RJ",
        "outputId": "6a4299c8-b8d0-4e82-9256-6b5cb7f1542a"
      },
      "source": [
        "x.head() #what we are training model on"
      ],
      "execution_count": null,
      "outputs": [
        {
          "output_type": "execute_result",
          "data": {
            "text/html": [
              "<div>\n",
              "<style scoped>\n",
              "    .dataframe tbody tr th:only-of-type {\n",
              "        vertical-align: middle;\n",
              "    }\n",
              "\n",
              "    .dataframe tbody tr th {\n",
              "        vertical-align: top;\n",
              "    }\n",
              "\n",
              "    .dataframe thead th {\n",
              "        text-align: right;\n",
              "    }\n",
              "</style>\n",
              "<table border=\"1\" class=\"dataframe\">\n",
              "  <thead>\n",
              "    <tr style=\"text-align: right;\">\n",
              "      <th></th>\n",
              "      <th>R</th>\n",
              "      <th>G</th>\n",
              "      <th>B</th>\n",
              "    </tr>\n",
              "  </thead>\n",
              "  <tbody>\n",
              "    <tr>\n",
              "      <th>0</th>\n",
              "      <td>74</td>\n",
              "      <td>85</td>\n",
              "      <td>123</td>\n",
              "    </tr>\n",
              "    <tr>\n",
              "      <th>1</th>\n",
              "      <td>73</td>\n",
              "      <td>84</td>\n",
              "      <td>122</td>\n",
              "    </tr>\n",
              "    <tr>\n",
              "      <th>2</th>\n",
              "      <td>72</td>\n",
              "      <td>83</td>\n",
              "      <td>121</td>\n",
              "    </tr>\n",
              "    <tr>\n",
              "      <th>3</th>\n",
              "      <td>70</td>\n",
              "      <td>81</td>\n",
              "      <td>119</td>\n",
              "    </tr>\n",
              "    <tr>\n",
              "      <th>4</th>\n",
              "      <td>70</td>\n",
              "      <td>81</td>\n",
              "      <td>119</td>\n",
              "    </tr>\n",
              "  </tbody>\n",
              "</table>\n",
              "</div>"
            ],
            "text/plain": [
              "    R   G    B\n",
              "0  74  85  123\n",
              "1  73  84  122\n",
              "2  72  83  121\n",
              "3  70  81  119\n",
              "4  70  81  119"
            ]
          },
          "metadata": {
            "tags": []
          },
          "execution_count": 11
        }
      ]
    },
    {
      "cell_type": "code",
      "metadata": {
        "colab": {
          "base_uri": "https://localhost:8080/"
        },
        "id": "JIPdpCjlwdHr",
        "outputId": "046d0438-dace-44eb-f949-77802c3ef56a"
      },
      "source": [
        "y.head() #what we are trying to predict (vars)"
      ],
      "execution_count": null,
      "outputs": [
        {
          "output_type": "execute_result",
          "data": {
            "text/plain": [
              "0    1\n",
              "1    1\n",
              "2    1\n",
              "3    1\n",
              "4    1\n",
              "Name: Decision, dtype: int64"
            ]
          },
          "metadata": {
            "tags": []
          },
          "execution_count": 16
        }
      ]
    },
    {
      "cell_type": "code",
      "metadata": {
        "colab": {
          "base_uri": "https://localhost:8080/"
        },
        "id": "b7N57DnPwff6",
        "outputId": "b2fd1265-c857-471c-f2dc-ab052d3ea630"
      },
      "source": [
        "#find missing or null data points \n",
        "df.isnull().sum()\n",
        "df.isna().sum()"
      ],
      "execution_count": null,
      "outputs": [
        {
          "output_type": "execute_result",
          "data": {
            "text/plain": [
              "R           0\n",
              "G           0\n",
              "B           0\n",
              "Decision    0\n",
              "dtype: int64"
            ]
          },
          "metadata": {
            "tags": []
          },
          "execution_count": 17
        }
      ]
    },
    {
      "cell_type": "code",
      "metadata": {
        "colab": {
          "base_uri": "https://localhost:8080/"
        },
        "id": "m2WmaA1-wkWd",
        "outputId": "ad1e44cf-e3e0-4099-d20c-c2c22f266a9c"
      },
      "source": [
        "#encode the Y, which is categorical \n",
        "#convert M/B to 1 and 0 \n",
        "from sklearn.preprocessing import LabelEncoder \n",
        "le = LabelEncoder()\n",
        "y = le.fit_transform(y) #dont need to cast as num py array bc dependent variabel does not have to be numpy array \n",
        "print (y)"
      ],
      "execution_count": null,
      "outputs": [
        {
          "output_type": "stream",
          "text": [
            "[0 0 0 ... 1 1 1]\n"
          ],
          "name": "stdout"
        }
      ]
    },
    {
      "cell_type": "code",
      "metadata": {
        "id": "un7nWDJEwnAt"
      },
      "source": [
        "#split into training and testing \n",
        "from sklearn.model_selection import train_test_split\n",
        "x_train, x_test, y_train, y_test = train_test_split(x, y, test_size = 0.10, random_state = 0)"
      ],
      "execution_count": null,
      "outputs": []
    },
    {
      "cell_type": "code",
      "metadata": {
        "id": "8IevmWG3wo9H"
      },
      "source": [
        "#feature scaling \n",
        "from sklearn.preprocessing import StandardScaler\n",
        "sc = StandardScaler() #the formula \n",
        "#only apply feature scaling to numerical values, leave dummy variables alone \n",
        "x_train = sc.fit_transform(x_train)\n",
        "x_test = sc.transform(x_test)"
      ],
      "execution_count": null,
      "outputs": []
    },
    {
      "cell_type": "code",
      "metadata": {
        "colab": {
          "base_uri": "https://localhost:8080/"
        },
        "id": "kA1rhCLywqav",
        "outputId": "84782b8c-e2a8-4094-e8e9-87f728ea6752"
      },
      "source": [
        "#Using RandomForestClassifier method of ensemble class to use Random Forest Classification algorithm\n",
        "\n",
        "from sklearn.ensemble import RandomForestClassifier\n",
        "classifier = RandomForestClassifier(n_estimators = 10, criterion = 'entropy', random_state = 0)\n",
        "classifier.fit(x_train, y_train)"
      ],
      "execution_count": null,
      "outputs": [
        {
          "output_type": "execute_result",
          "data": {
            "text/plain": [
              "RandomForestClassifier(bootstrap=True, ccp_alpha=0.0, class_weight=None,\n",
              "                       criterion='entropy', max_depth=None, max_features='auto',\n",
              "                       max_leaf_nodes=None, max_samples=None,\n",
              "                       min_impurity_decrease=0.0, min_impurity_split=None,\n",
              "                       min_samples_leaf=1, min_samples_split=2,\n",
              "                       min_weight_fraction_leaf=0.0, n_estimators=10,\n",
              "                       n_jobs=None, oob_score=False, random_state=0, verbose=0,\n",
              "                       warm_start=False)"
            ]
          },
          "metadata": {
            "tags": []
          },
          "execution_count": 21
        }
      ]
    },
    {
      "cell_type": "code",
      "metadata": {
        "colab": {
          "base_uri": "https://localhost:8080/"
        },
        "id": "7Im0acIBwscp",
        "outputId": "ad4278bb-59d8-4264-cbf6-87f5a82dcfb0"
      },
      "source": [
        "y_pred = classifier.predict(x_test)\n",
        "from sklearn.metrics import confusion_matrix\n",
        "cm = confusion_matrix(y_test, y_pred)\n",
        "print (cm)"
      ],
      "execution_count": null,
      "outputs": [
        {
          "output_type": "stream",
          "text": [
            "[[ 5094     0]\n",
            " [   12 19400]]\n"
          ],
          "name": "stdout"
        }
      ]
    },
    {
      "cell_type": "code",
      "metadata": {
        "colab": {
          "base_uri": "https://localhost:8080/",
          "height": 282
        },
        "id": "YvsCduRx-zSZ",
        "outputId": "27b5f699-6717-436f-c479-9c6502514a0d"
      },
      "source": [
        "group_names = ['‘True Neg’','’False Pos’','’False Neg’','’True Pos’']\n",
        "group_counts = [\"{0:0.0f}\".format(value) for value in\n",
        "                cm.flatten()]\n",
        "group_percentages = [\"{0:.2%}\".format(value) for value in\n",
        "                     cm.flatten()/np.sum(cm)]\n",
        "labels = [f\"{v1}\\n{v2}\\n{v3}\" for v1, v2, v3 in\n",
        "          zip(group_names,group_counts,group_percentages)]\n",
        "labels = np.asarray(labels).reshape(2,2)\n",
        "sns.heatmap(cm, annot=labels, fmt='', cmap='Blues')"
      ],
      "execution_count": null,
      "outputs": [
        {
          "output_type": "execute_result",
          "data": {
            "text/plain": [
              "<matplotlib.axes._subplots.AxesSubplot at 0x7fb2f551c0f0>"
            ]
          },
          "metadata": {
            "tags": []
          },
          "execution_count": 38
        },
        {
          "output_type": "display_data",
          "data": {
            "image/png": "[encoded data removed]",
            "text/plain": [
              "<Figure size 432x288 with 2 Axes>"
            ]
          },
          "metadata": {
            "tags": [],
            "needs_background": "light"
          }
        }
      ]
    },
    {
      "cell_type": "code",
      "metadata": {
        "id": "TgnxRONcwzUu"
      },
      "source": [
        "#5094 true pos. \n",
        "#0 false pos. \n",
        "#12 false neg.\n",
        "#19400 true neg. \n",
        "#total tests = 24,506\n",
        "#to get accuracy rate, do 100-(12/24,506) = 99.9996% inaccurate"
      ],
      "execution_count": null,
      "outputs": []
    }
  ]
}